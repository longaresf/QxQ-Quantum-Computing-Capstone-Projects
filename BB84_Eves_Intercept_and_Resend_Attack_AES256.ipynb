{
  "nbformat": 4,
  "nbformat_minor": 0,
  "metadata": {
    "colab": {
      "provenance": [],
      "authorship_tag": "ABX9TyMBpETr1GBL6U6cS+ZwE7r8",
      "include_colab_link": true
    },
    "kernelspec": {
      "name": "python3",
      "display_name": "Python 3"
    },
    "language_info": {
      "name": "python"
    }
  },
  "cells": [
    {
      "cell_type": "markdown",
      "metadata": {
        "id": "view-in-github",
        "colab_type": "text"
      },
      "source": [
        "<a href=\"https://colab.research.google.com/github/longaresf/QxQ-Quantum-Computing-Capstone-Projects/blob/main/BB84_Eves_Intercept_and_Resend_Attack_AES256.ipynb\" target=\"_parent\"><img src=\"https://colab.research.google.com/assets/colab-badge.svg\" alt=\"Open In Colab\"/></a>"
      ]
    },
    {
      "cell_type": "code",
      "execution_count": 39,
      "metadata": {
        "colab": {
          "base_uri": "https://localhost:8080/",
          "height": 0
        },
        "id": "-Vbl7j3sQClw",
        "outputId": "d7dfc887-2bf9-42f1-b585-286477480446"
      },
      "outputs": [
        {
          "output_type": "stream",
          "name": "stdout",
          "text": [
            "Libraries imported successfully!\n"
          ]
        }
      ],
      "source": [
        "!pip install cirq --quiet\n",
        "import cirq\n",
        "from random import choices\n",
        "import numpy as np\n",
        "import functools\n",
        "import os\n",
        "import base64\n",
        "from cryptography.hazmat.primitives.ciphers import Cipher, algorithms, modes\n",
        "from cryptography.hazmat.backends import default_backend\n",
        "from cryptography.hazmat.primitives import padding\n",
        "print(\"Libraries imported successfully!\")"
      ]
    },
    {
      "cell_type": "code",
      "source": [
        "# Function to encrypt using AES in CBC mode\n",
        "iv = os.urandom(16)\n",
        "def encrypt_AES_CBC(message, secret_key, iv):\n",
        "    padder = padding.PKCS7(128).padder()\n",
        "    padded_data = padder.update(message.encode('utf-8'))\n",
        "    padded_data += padder.finalize()\n",
        "\n",
        "    cipher = Cipher(algorithms.AES(secret_key), modes.CBC(iv), backend=default_backend())\n",
        "    encryptor = cipher.encryptor()\n",
        "    ciphertext = encryptor.update(padded_data) + encryptor.finalize()\n",
        "\n",
        "    return ciphertext\n",
        "\n",
        "# Function to decrypt using AES in CBC mode\n",
        "def decrypt_AES_CBC(ciphertext, secret_key, iv):\n",
        "    decryptor = Cipher(algorithms.AES(secret_key), modes.CBC(iv), backend=default_backend()).decryptor()\n",
        "    decrypted_data = decryptor.update(ciphertext) + decryptor.finalize()\n",
        "\n",
        "    unpadder = padding.PKCS7(128).unpadder()\n",
        "    unpadded_data = unpadder.update(decrypted_data)\n",
        "    unpadded_data += unpadder.finalize()\n",
        "\n",
        "    return unpadded_data.decode('utf-8')\n",
        "\n",
        "# Print Exception message\n",
        "class Eavesdropper_detected(BaseException):\n",
        "    def __init__(self, message:str) -> None:\n",
        "        self.message = message\n",
        "\n",
        "    def __str__(self) -> str:\n",
        "            output_message = self.message\n",
        "            return output_message"
      ],
      "metadata": {
        "id": "SO9to9_1G4qR"
      },
      "execution_count": 51,
      "outputs": []
    },
    {
      "cell_type": "code",
      "source": [
        "# Ask for message input\n",
        "message = str(input(\"Enter message to be encrypted: \"))"
      ],
      "metadata": {
        "id": "evt1qJ7JPbBv",
        "colab": {
          "base_uri": "https://localhost:8080/",
          "height": 0
        },
        "outputId": "fe74392e-9114-4c49-e7c9-1165ea9024c2"
      },
      "execution_count": 3,
      "outputs": [
        {
          "name": "stdout",
          "output_type": "stream",
          "text": [
            "Enter message to be encrypted: Hello world, this is an encrypted test message.\n"
          ]
        }
      ]
    },
    {
      "cell_type": "code",
      "source": [
        "# The Setup\n",
        "# Phase #1: Alice Sends\n",
        "encode_gates = {0: cirq.I, 1: cirq.X}\n",
        "basis_gates = {'Z': cirq.I, 'X': cirq.H}\n",
        "\n",
        "num_bits = 18 * len(message)\n",
        "#qubits\n",
        "qubits = cirq.NamedQubit.range(num_bits, prefix = 'q')\n",
        "\n",
        "# Step #1: Alice Randomly Chooses Bits\n",
        "alice_key = choices([0, 1], k = num_bits)\n",
        "  #  print('Alice\\'s initial key: ', alice_key)\n",
        "\n",
        "# Step #2: Alice Randomly Chooses Bases\n",
        "alice_bases = choices(['Z', 'X'], k = num_bits)\n",
        "  #  print('\\nAlice\\'s randomly chosen bases: ', alice_bases)\n",
        "\n",
        "# Step #3: Alice Creates Qubits\n",
        "alice_circuit = cirq.Circuit()\n",
        "\n",
        "for bit in range(num_bits):\n",
        "\n",
        "  encode_value = alice_key[bit]\n",
        "  encode_gate = encode_gates[encode_value]\n",
        "\n",
        "  basis_value = alice_bases[bit]\n",
        "  basis_gate = basis_gates[basis_value]\n",
        "\n",
        "  qubit = qubits[bit]\n",
        "  alice_circuit.append(encode_gate(qubit))\n",
        "  alice_circuit.append(basis_gate(qubit))\n",
        "#print(alice_circuit)\n",
        "\n",
        "# Step #4: Alice Sends the Qubits to Bob\n",
        "# Phase #2: Eve Receives\n",
        "# Step #5: Eve Randomly Chooses Bases\n",
        "eve_bases = choices(['Z', 'X'], k = num_bits)\n",
        "  #  print('Eve\\'s randomly chosen bases: ', eve_bases)\n",
        "\n",
        "eve_circuit = cirq.Circuit()\n",
        "\n",
        "for bit in range(num_bits):\n",
        "\n",
        "  basis_value = eve_bases[bit]\n",
        "  basis_gate = basis_gates[basis_value]\n",
        "\n",
        "  qubit = qubits[bit]\n",
        "  eve_circuit.append(basis_gate(qubit))\n",
        "\n",
        "# Step #6: Eve Measures the Qubits\n",
        "eve_circuit.append(cirq.measure(qubits, key = 'eve key'))\n",
        "eve_circuit\n",
        "\n",
        "# Step #7: Eve Creates a Key\n",
        "eve_intercept_circuit = alice_circuit + eve_circuit\n",
        "\n",
        "sim = cirq.Simulator()\n",
        "results = sim.run(eve_intercept_circuit)\n",
        "eve_key = results.measurements['eve key'][0]\n",
        "  #  print('\\nEve\\'s initial key: ', eve_key)\n",
        "\n",
        "# Eve Repeats Step #3 to Fool Bob\n",
        "alice_circuit = cirq.Circuit()\n",
        "\n",
        "for bit in range(num_bits):\n",
        "\n",
        "  encode_value = eve_key[bit]\n",
        "  encode_gate = encode_gates[encode_value]\n",
        "\n",
        "  qubit = qubits[bit]\n",
        "  alice_circuit.append(encode_gate(qubit))\n",
        "  alice_circuit.append(basis_gate(qubit))\n",
        "    #print('\\nAlice\\'s Phase 1 circuit after Eve\\'s interception:\\n', alice_circuit)\n",
        "\n",
        "# Phase #2: Bob Receives\n",
        "# Step #5: Bob Randomly Chooses Bases\n",
        "  bob_bases = choices(['Z', 'X'], k = num_bits)\n",
        "  #  print('Bob\\'s randomly chosen bases: ', bob_bases)\n",
        "\n",
        "bob_circuit = cirq.Circuit()\n",
        "\n",
        "for bit in range(num_bits):\n",
        "\n",
        "  basis_value = bob_bases[bit]\n",
        "  basis_gate = basis_gates[basis_value]\n",
        "\n",
        "  qubit = qubits[bit]\n",
        "  bob_circuit.append(basis_gate(qubit))\n",
        "\n",
        "# Step #6: Bob Measures the Qubits\n",
        "bob_circuit.append(cirq.measure(qubits, key = 'bob key'))\n",
        "    #print(bob_circuit)\n",
        "# Step #7: Bob Creates a Key\n",
        "bb84_circuit = alice_circuit + bob_circuit\n",
        "\n",
        "sim = cirq.Simulator()\n",
        "results = sim.run(bb84_circuit)\n",
        "bob_key = results.measurements['bob key'][0]\n",
        "  #  print('\\nBob\\'s initial key: ', bob_key)\n",
        "\n",
        "# Phase #3: Alice and Bob Compare\n",
        "# Step #8: Alice and Bob Compare the Bases and Bits in Their Keys\n",
        "AES_256_bit = 8\n",
        "final_alice_key = []\n",
        "final_bob_key = []\n",
        "final_eve_key = []\n",
        "final_bases = []\n",
        "secret_key = []\n",
        "\n",
        "num_bits_to_compare = int(AES_256_bit * .5)\n",
        "if np.array_equal(alice_key[0:num_bits_to_compare], bob_key[0:num_bits_to_compare]):\n",
        "  for bit in range(num_bits):\n",
        "    if alice_bases[bit] == bob_bases[bit] and alice_key[bit] == bob_key[bit]:\n",
        "      final_alice_key.append(alice_key[bit])\n",
        "      final_bob_key.append(bob_key[bit])\n",
        "      final_bases.append(alice_bases[bit])\n",
        "      secret_key = final_alice_key[0:AES_256_bit]\n",
        "  final_eve_key.append(eve_key[0:AES_256_bit].tolist())\n",
        "else:\n",
        "    raise Eavesdropper_detected(\"Eavesdropper was detected! Key couldn't be safely established.\\n\\nEve was listening, we need to use a different channel!\")\n",
        "\n",
        "print('\\n\\nWe can use our keys!')\n",
        "print('\\nAlice\\'s key: ', final_alice_key)\n",
        "print('Bob\\'s key: ', final_bob_key)\n",
        "print('Eve\\'s key: ', final_eve_key)\n",
        "print('final_bases: ', final_bases)\n",
        "print('secret_key: ', secret_key)\n",
        "\n",
        "# Step #9: Comprobation secret_key is 16, 24, or 32 bytes for AES-128, AES-192, or AES-256\n",
        "if int(len(secret_key)) % 2 == 0:\n",
        "    secret_key_final = secret_key\n",
        "else:\n",
        "    secret_key.append(1)\n",
        "    secret_key_final = secret_key\n",
        "\n",
        "print(f'secret_key_final: {secret_key_final}')\n",
        "\n",
        "# Step #10: Comprobation Alice and Eve Compare Bits in Their Keys\n",
        "if functools.reduce(lambda x, y : x and y, map(lambda p, q: p == q,secret_key_final,final_eve_key), True):\n",
        "    print('\\nThe alice_key and eve_key are the same')\n",
        "else:\n",
        "    print (\"\\nThe alice_key and eve_key are not the same\")"
      ],
      "metadata": {
        "id": "oPcr-IJ_ois5",
        "colab": {
          "base_uri": "https://localhost:8080/",
          "height": 0
        },
        "outputId": "293ae108-d2fd-4bc4-ca26-75a88f40d53f"
      },
      "execution_count": 159,
      "outputs": [
        {
          "output_type": "stream",
          "name": "stdout",
          "text": [
            "\n",
            "\n",
            "We can use our keys!\n",
            "\n",
            "Alice's key:  [0, 1, 1, 1, 1, 1, 1, 1, 1, 0, 1, 0, 1, 0, 0, 0, 0, 1, 1, 0, 0, 0, 1, 0, 1, 1, 0, 1, 1, 0, 0, 0, 0, 0, 1, 0, 0, 1, 1, 0, 0, 1, 0, 1, 1, 0, 0, 0, 1, 1, 1, 1, 0, 1, 0, 0, 1, 1, 0, 1, 1, 0, 0, 1, 0, 1, 0, 1, 1, 1, 0, 0, 0, 1, 1, 0, 1, 1, 1, 1, 0, 1, 0, 1, 0, 1, 1, 1, 1, 1, 0, 0, 0, 1, 1, 1, 1, 0, 0, 0, 1, 1, 1, 1, 1, 1, 0, 1, 1, 0, 1, 1, 0, 1, 0, 0, 1, 0, 1, 0, 0, 1, 0, 0, 0, 0, 1, 1, 0, 0, 1, 1, 1, 1, 1, 0, 0, 1, 0, 1, 1, 0, 1, 1, 0, 0, 1, 1, 0, 0, 0, 0, 0, 0, 0, 1, 0, 0, 0, 0, 0, 0, 0, 1, 1, 1, 0, 0, 0, 0, 1, 1, 0, 1, 0, 1, 0, 0, 1, 1, 1, 1, 0, 0, 1, 0, 1, 1, 0, 0, 0, 0, 1, 0, 1, 0, 0, 0, 1, 0, 0, 0, 0, 0, 0, 0, 0, 1, 1, 0, 0, 0, 1, 0, 0, 1, 1, 1, 1, 0, 0, 1, 1, 0, 1, 0, 0, 0, 1, 0, 1, 1, 1, 1, 0, 1, 0, 1, 0, 1, 0, 1, 0, 1, 1, 0, 0, 1, 0, 1, 1, 0, 0, 1, 0, 1, 0, 1, 1, 1, 0, 0, 0, 0, 1, 0, 1, 1, 1, 0, 0, 0, 0, 0, 0, 1, 0, 1, 0, 0, 1, 1, 1, 0, 0, 0]\n",
            "Bob's key:  [0, 1, 1, 1, 1, 1, 1, 1, 1, 0, 1, 0, 1, 0, 0, 0, 0, 1, 1, 0, 0, 0, 1, 0, 1, 1, 0, 1, 1, 0, 0, 0, 0, 0, 1, 0, 0, 1, 1, 0, 0, 1, 0, 1, 1, 0, 0, 0, 1, 1, 1, 1, 0, 1, 0, 0, 1, 1, 0, 1, 1, 0, 0, 1, 0, 1, 0, 1, 1, 1, 0, 0, 0, 1, 1, 0, 1, 1, 1, 1, 0, 1, 0, 1, 0, 1, 1, 1, 1, 1, 0, 0, 0, 1, 1, 1, 1, 0, 0, 0, 1, 1, 1, 1, 1, 1, 0, 1, 1, 0, 1, 1, 0, 1, 0, 0, 1, 0, 1, 0, 0, 1, 0, 0, 0, 0, 1, 1, 0, 0, 1, 1, 1, 1, 1, 0, 0, 1, 0, 1, 1, 0, 1, 1, 0, 0, 1, 1, 0, 0, 0, 0, 0, 0, 0, 1, 0, 0, 0, 0, 0, 0, 0, 1, 1, 1, 0, 0, 0, 0, 1, 1, 0, 1, 0, 1, 0, 0, 1, 1, 1, 1, 0, 0, 1, 0, 1, 1, 0, 0, 0, 0, 1, 0, 1, 0, 0, 0, 1, 0, 0, 0, 0, 0, 0, 0, 0, 1, 1, 0, 0, 0, 1, 0, 0, 1, 1, 1, 1, 0, 0, 1, 1, 0, 1, 0, 0, 0, 1, 0, 1, 1, 1, 1, 0, 1, 0, 1, 0, 1, 0, 1, 0, 1, 1, 0, 0, 1, 0, 1, 1, 0, 0, 1, 0, 1, 0, 1, 1, 1, 0, 0, 0, 0, 1, 0, 1, 1, 1, 0, 0, 0, 0, 0, 0, 1, 0, 1, 0, 0, 1, 1, 1, 0, 0, 0]\n",
            "Eve's key:  [[1, 0, 1, 1, 1, 1, 1, 1]]\n",
            "final_bases:  ['Z', 'X', 'Z', 'Z', 'X', 'Z', 'Z', 'Z', 'X', 'Z', 'Z', 'X', 'Z', 'Z', 'Z', 'Z', 'Z', 'Z', 'Z', 'X', 'X', 'X', 'Z', 'Z', 'Z', 'X', 'X', 'Z', 'X', 'X', 'X', 'Z', 'Z', 'X', 'Z', 'Z', 'Z', 'Z', 'Z', 'Z', 'Z', 'X', 'Z', 'X', 'X', 'X', 'Z', 'X', 'X', 'Z', 'Z', 'X', 'Z', 'Z', 'Z', 'Z', 'Z', 'Z', 'X', 'Z', 'Z', 'Z', 'Z', 'Z', 'Z', 'Z', 'X', 'X', 'X', 'Z', 'X', 'Z', 'X', 'X', 'Z', 'X', 'X', 'X', 'Z', 'X', 'Z', 'Z', 'Z', 'X', 'Z', 'Z', 'Z', 'Z', 'X', 'Z', 'Z', 'Z', 'X', 'Z', 'Z', 'Z', 'Z', 'Z', 'X', 'Z', 'X', 'X', 'X', 'X', 'Z', 'Z', 'Z', 'Z', 'X', 'Z', 'Z', 'Z', 'Z', 'Z', 'Z', 'Z', 'Z', 'Z', 'Z', 'Z', 'X', 'Z', 'Z', 'X', 'Z', 'Z', 'X', 'Z', 'X', 'X', 'X', 'Z', 'Z', 'Z', 'X', 'Z', 'Z', 'Z', 'X', 'X', 'X', 'Z', 'Z', 'X', 'X', 'X', 'Z', 'X', 'Z', 'X', 'X', 'Z', 'Z', 'X', 'Z', 'Z', 'X', 'X', 'Z', 'X', 'X', 'Z', 'Z', 'Z', 'X', 'Z', 'X', 'Z', 'X', 'X', 'Z', 'X', 'X', 'Z', 'Z', 'Z', 'X', 'Z', 'Z', 'Z', 'X', 'Z', 'Z', 'Z', 'X', 'Z', 'Z', 'X', 'Z', 'Z', 'Z', 'X', 'Z', 'Z', 'Z', 'Z', 'X', 'Z', 'X', 'Z', 'Z', 'X', 'Z', 'X', 'Z', 'Z', 'X', 'X', 'Z', 'X', 'Z', 'X', 'Z', 'Z', 'Z', 'Z', 'X', 'X', 'X', 'Z', 'Z', 'X', 'Z', 'Z', 'Z', 'X', 'Z', 'X', 'Z', 'Z', 'X', 'Z', 'Z', 'X', 'X', 'X', 'Z', 'X', 'Z', 'X', 'Z', 'Z', 'Z', 'X', 'Z', 'X', 'Z', 'Z', 'Z', 'Z', 'Z', 'Z', 'Z', 'X', 'Z', 'X', 'X', 'X', 'Z', 'X', 'X', 'X', 'Z', 'Z', 'Z', 'Z', 'Z', 'Z', 'X', 'X', 'X', 'Z', 'Z', 'X', 'Z', 'Z', 'Z', 'X', 'X', 'Z', 'Z', 'X', 'X', 'Z', 'Z', 'Z']\n",
            "secret_key:  [0, 1, 1, 1, 1, 1, 1, 1]\n",
            "secret_key_final: [0, 1, 1, 1, 1, 1, 1, 1]\n",
            "\n",
            "The alice_key and eve_key are not the same\n"
          ]
        }
      ]
    },
    {
      "cell_type": "code",
      "source": [
        "# Step #11: secret_key_final is encode in base64\n",
        "string_data = str(secret_key_final)\n",
        "byte_data = string_data.encode('utf-8')\n",
        "print(f'byte_data: {byte_data}')\n",
        "encoded_key = base64.b64encode(byte_data) # Encryption key Ensure the key is 16, 24, or 32 bytes for AES-128, AES-192, or AES-256\n",
        "print(f'encoded_key: {encoded_key}')\n",
        "\n",
        "# Encrypt the message\n",
        "encrypted_text = encrypt_AES_CBC(message, encoded_key, iv)\n",
        "print(f'Encrypted text: {encrypted_text}')\n",
        "\n",
        "# Decrypt the encrypted message\n",
        "decrypted_text = decrypt_AES_CBC(encrypted_text, encoded_key, iv)\n",
        "print(f'Decrypted text: {decrypted_text}')"
      ],
      "metadata": {
        "colab": {
          "base_uri": "https://localhost:8080/",
          "height": 0
        },
        "id": "YSZolmtPLdcZ",
        "outputId": "60615d37-e973-4ae1-9fa0-fff85518f614"
      },
      "execution_count": 132,
      "outputs": [
        {
          "output_type": "stream",
          "name": "stdout",
          "text": [
            "byte_data: b'[1, 1, 0, 1, 1, 0, 1, 1]'\n",
            "encoded_key: b'WzEsIDEsIDAsIDEsIDEsIDAsIDEsIDFd'\n",
            "Encrypted text: b'fa^A?u\\x9a\\xdf\\xae\\xfdR\\xf1o\\xd45\\x0e\\xa0\\x0c\\x19\\xce-\\x8c\\xc7\\xed\\xb0L\\xc6\\xcc9#cbD\\xb5\\xbc2.\\xa3\\xe5\\x13\\xc9!\\xe7\\xa4\\xa4g\\xef,'\n",
            "Decrypted text: Hello world, this is an encrypted test message.\n"
          ]
        }
      ]
    }
  ]
}